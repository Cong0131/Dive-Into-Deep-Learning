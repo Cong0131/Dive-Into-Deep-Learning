{
 "cells": [
  {
   "cell_type": "code",
   "execution_count": 1,
   "metadata": {},
   "outputs": [],
   "source": [
    "import torch"
   ]
  },
  {
   "cell_type": "markdown",
   "metadata": {},
   "source": [
    "### 生成数据集与小批量样本"
   ]
  },
  {
   "cell_type": "code",
   "execution_count": 2,
   "metadata": {},
   "outputs": [
    {
     "data": {
      "text/plain": [
       "(tensor([-6.2018,  0.7568,  0.7294, -4.1338,  6.0404,  1.0031, -1.5603,  9.7739]),\n",
       " tensor([3.0905]))"
      ]
     },
     "execution_count": 2,
     "metadata": {},
     "output_type": "execute_result"
    }
   ],
   "source": [
    "dim_features = 8\n",
    "true_w = torch.normal(0, 4, (dim_features, ))\n",
    "true_b = torch.normal(4, 1, (1, ))\n",
    "true_w, true_b"
   ]
  },
  {
   "cell_type": "code",
   "execution_count": 3,
   "metadata": {},
   "outputs": [
    {
     "data": {
      "text/plain": [
       "(torch.Size([400, 8]), torch.Size([400, 1]))"
      ]
     },
     "execution_count": 3,
     "metadata": {},
     "output_type": "execute_result"
    }
   ],
   "source": [
    "def synthetic_data(true_w, true_b, num_examples):\n",
    "    dim_features = true_w.shape[0]\n",
    "    X = torch.normal(0, 1, (num_examples, dim_features))\n",
    "    y = torch.mv(X, true_w) + true_b\n",
    "    y += torch.normal(0, 0.01, (num_examples, ))\n",
    "    return X, y.reshape((-1, 1))\n",
    "\n",
    "num_examples = 400\n",
    "features, labels = synthetic_data(true_w, true_b, num_examples)\n",
    "features.shape, labels.shape"
   ]
  },
  {
   "cell_type": "code",
   "execution_count": 4,
   "metadata": {},
   "outputs": [],
   "source": [
    "from torch.utils import data\n",
    "\n",
    "def load_array(data_arrays, batch_size, is_train=True):\n",
    "    dataset = data.TensorDataset(*data_arrays)\n",
    "    return data.DataLoader(dataset, batch_size, is_train)\n",
    "\n",
    "batch_size = 20\n",
    "data_iter = load_array((features, labels), batch_size)"
   ]
  },
  {
   "cell_type": "markdown",
   "metadata": {},
   "source": [
    "### 定义模型与参数"
   ]
  },
  {
   "cell_type": "code",
   "execution_count": 5,
   "metadata": {},
   "outputs": [
    {
     "data": {
      "text/plain": [
       "(tensor([[0.8735, 1.0928, 0.9915, 1.0477, 0.9721, 1.0611, 0.7159, 1.0733]]),\n",
       " tensor([0.1120]))"
      ]
     },
     "execution_count": 5,
     "metadata": {},
     "output_type": "execute_result"
    }
   ],
   "source": [
    "from torch import nn\n",
    "net = nn.Sequential(nn.Linear(dim_features, 1))\n",
    "net[0].weight.data.normal_(1, 0.1), net[0].bias.data.normal_(0, 0.1)"
   ]
  },
  {
   "cell_type": "markdown",
   "metadata": {},
   "source": [
    "### 定义损失函数与优化算法"
   ]
  },
  {
   "cell_type": "code",
   "execution_count": 6,
   "metadata": {},
   "outputs": [],
   "source": [
    "loss = nn.MSELoss()\n",
    "trainer = torch.optim.SGD(net.parameters(), lr=0.05)"
   ]
  },
  {
   "cell_type": "markdown",
   "metadata": {},
   "source": [
    "### 训练模型并检验正确性"
   ]
  },
  {
   "cell_type": "code",
   "execution_count": 7,
   "metadata": {},
   "outputs": [
    {
     "name": "stdout",
     "output_type": "stream",
     "text": [
      "epoch 1: loss = 2.889395\n",
      "epoch 2: loss = 0.050088\n",
      "epoch 3: loss = 0.001043\n",
      "epoch 4: loss = 0.000109\n",
      "epoch 5: loss = 0.000098\n"
     ]
    },
    {
     "data": {
      "text/plain": [
       "(tensor([[ 8.5831e-06, -6.1047e-04,  2.9814e-04, -1.0266e-03, -2.5463e-04,\n",
       "           1.0371e-04,  6.3086e-04, -7.3814e-04]]),\n",
       " tensor([5.3406e-05]))"
      ]
     },
     "execution_count": 7,
     "metadata": {},
     "output_type": "execute_result"
    }
   ],
   "source": [
    "num_epochs = 5\n",
    "for epoch in range(num_epochs):\n",
    "    for X, y in data_iter:\n",
    "        l = loss(net(X), y)\n",
    "        trainer.zero_grad()\n",
    "        l.backward()\n",
    "        trainer.step()\n",
    "    l = loss(net(features), labels)\n",
    "    print(f'epoch {epoch + 1}: loss = {l:f}')\n",
    "\n",
    "w = net[0].weight.data\n",
    "b = net[0].bias.data\n",
    "w - true_w, b - true_b"
   ]
  }
 ],
 "metadata": {
  "kernelspec": {
   "display_name": "Dive2DL",
   "language": "python",
   "name": "python3"
  },
  "language_info": {
   "codemirror_mode": {
    "name": "ipython",
    "version": 3
   },
   "file_extension": ".py",
   "mimetype": "text/x-python",
   "name": "python",
   "nbconvert_exporter": "python",
   "pygments_lexer": "ipython3",
   "version": "3.8.20"
  }
 },
 "nbformat": 4,
 "nbformat_minor": 2
}
