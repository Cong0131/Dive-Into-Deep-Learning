{
 "cells": [
  {
   "cell_type": "code",
   "execution_count": 10,
   "metadata": {},
   "outputs": [],
   "source": [
    "import torch\n",
    "import random"
   ]
  },
  {
   "cell_type": "markdown",
   "metadata": {},
   "source": [
    "### 生成数据集与小批量样本"
   ]
  },
  {
   "cell_type": "code",
   "execution_count": 11,
   "metadata": {},
   "outputs": [
    {
     "data": {
      "text/plain": [
       "(tensor([ 0.5277,  1.7805, -4.3920, -0.2680,  0.5007,  0.3966, -7.4353,  4.3916]),\n",
       " tensor([4.7906]))"
      ]
     },
     "execution_count": 11,
     "metadata": {},
     "output_type": "execute_result"
    }
   ],
   "source": [
    "dim_features = 8\n",
    "true_w = torch.normal(0, 4, (dim_features, ))\n",
    "true_b = torch.normal(4, 1, (1, ))\n",
    "true_w, true_b"
   ]
  },
  {
   "cell_type": "code",
   "execution_count": 12,
   "metadata": {},
   "outputs": [
    {
     "data": {
      "text/plain": [
       "(torch.Size([400, 8]), torch.Size([400]))"
      ]
     },
     "execution_count": 12,
     "metadata": {},
     "output_type": "execute_result"
    }
   ],
   "source": [
    "def synthetic_data(true_w, true_b, num_examples):\n",
    "    dim_features = true_w.shape[0]\n",
    "    X = torch.normal(0, 1, (num_examples, dim_features))\n",
    "    y = torch.mv(X, true_w) + true_b\n",
    "    y += torch.normal(0, 0.01, (num_examples, ))\n",
    "    return X, y\n",
    "\n",
    "num_examples = 400\n",
    "features, labels = synthetic_data(true_w, true_b, num_examples)\n",
    "features.shape, labels.shape"
   ]
  },
  {
   "cell_type": "code",
   "execution_count": 13,
   "metadata": {},
   "outputs": [],
   "source": [
    "def data_iter(features, labels, batch_size):\n",
    "    num_examples = features.shape[0]\n",
    "    indices = list(range(num_examples))\n",
    "    random.shuffle(indices)\n",
    "    for i in range(0, num_examples, batch_size):\n",
    "        batch_indices = indices[i: i + batch_size]\n",
    "        yield features[batch_indices], labels[batch_indices]\n",
    "\n",
    "batch_size = 20"
   ]
  },
  {
   "cell_type": "code",
   "execution_count": 14,
   "metadata": {},
   "outputs": [
    {
     "name": "stdout",
     "output_type": "stream",
     "text": [
      "torch.Size([20, 8]) torch.Size([20])\n"
     ]
    }
   ],
   "source": [
    "for X, Y in data_iter(features, labels, batch_size):\n",
    "    print(X.shape, Y.shape)\n",
    "    break"
   ]
  },
  {
   "cell_type": "markdown",
   "metadata": {},
   "source": [
    "### 定义模型与参数"
   ]
  },
  {
   "cell_type": "code",
   "execution_count": 15,
   "metadata": {},
   "outputs": [],
   "source": [
    "def linreg(w, b, X):\n",
    "    return torch.mv(X, w) + b\n",
    "\n",
    "w = torch.normal(1, 0.1, (dim_features, ), requires_grad=True)\n",
    "b = torch.normal(0, 0.1, (1, ), requires_grad=True)"
   ]
  },
  {
   "cell_type": "markdown",
   "metadata": {},
   "source": [
    "### 定义损失函数与优化算法"
   ]
  },
  {
   "cell_type": "code",
   "execution_count": 16,
   "metadata": {},
   "outputs": [],
   "source": [
    "def squared_loss(y_hat, y):\n",
    "    loss = ((y_hat - y) ** 2) / 2\n",
    "    return loss.sum() / y_hat.shape[0]"
   ]
  },
  {
   "cell_type": "code",
   "execution_count": 17,
   "metadata": {},
   "outputs": [],
   "source": [
    "def sgd(params, lr):\n",
    "    with torch.no_grad():\n",
    "        for param in params:\n",
    "            param -= lr * param.grad\n",
    "            param.grad.zero_()"
   ]
  },
  {
   "cell_type": "markdown",
   "metadata": {},
   "source": [
    "### 训练模型并检验正确性"
   ]
  },
  {
   "cell_type": "code",
   "execution_count": 18,
   "metadata": {},
   "outputs": [
    {
     "name": "stdout",
     "output_type": "stream",
     "text": [
      "epoch 1: loss = 7.802693\n",
      "epoch 2: loss = 0.880278\n",
      "epoch 3: loss = 0.106145\n",
      "epoch 4: loss = 0.013621\n",
      "epoch 5: loss = 0.001870\n",
      "epoch 6: loss = 0.000301\n",
      "epoch 7: loss = 0.000086\n",
      "epoch 8: loss = 0.000055\n",
      "epoch 9: loss = 0.000050\n",
      "epoch 10: loss = 0.000049\n"
     ]
    },
    {
     "data": {
      "text/plain": [
       "(tensor([-0.0008,  0.0004,  0.0005,  0.0007,  0.0001,  0.0005,  0.0004, -0.0005],\n",
       "        grad_fn=<SubBackward0>),\n",
       " tensor([0.0004], grad_fn=<SubBackward0>))"
      ]
     },
     "execution_count": 18,
     "metadata": {},
     "output_type": "execute_result"
    }
   ],
   "source": [
    "lr = 0.05\n",
    "num_epochs = 10\n",
    "net = linreg\n",
    "loss = squared_loss\n",
    "\n",
    "for epoch in range(num_epochs):\n",
    "    for X, y, in data_iter(features, labels, batch_size):\n",
    "        l = loss(net(w, b, X), y)\n",
    "        l.backward()\n",
    "        sgd([w, b], lr)\n",
    "    with torch.no_grad():\n",
    "        l = loss(net(w, b, features), labels)\n",
    "        print(f'epoch {epoch + 1}: loss = {float(l):f}')\n",
    "        \n",
    "w - true_w, b - true_b"
   ]
  }
 ],
 "metadata": {
  "kernelspec": {
   "display_name": "Dive2DL",
   "language": "python",
   "name": "python3"
  },
  "language_info": {
   "codemirror_mode": {
    "name": "ipython",
    "version": 3
   },
   "file_extension": ".py",
   "mimetype": "text/x-python",
   "name": "python",
   "nbconvert_exporter": "python",
   "pygments_lexer": "ipython3",
   "version": "3.8.20"
  }
 },
 "nbformat": 4,
 "nbformat_minor": 2
}
